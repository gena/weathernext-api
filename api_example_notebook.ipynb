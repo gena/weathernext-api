{
 "cells": [
  {
   "cell_type": "markdown",
   "metadata": {},
   "source": [
    "# WeatherNext API Example Notebook\n",
    "\n",
    "This notebook demonstrates how to use the WeatherNext API to retrieve and visualize weather forecast data."
   ]
  },
  {
   "cell_type": "markdown",
   "metadata": {},
   "source": [
    "## Setup\n",
    "\n",
    "1.  **Run the API Server:**\n",
    "\n",
    "    Before running this notebook, make sure the WeatherNext API server is running locally. Follow the instructions in the `README.md` file to start the server.\n",
    "\n",
    "2.  **Install Libraries:**\n",
    "\n",
    "    Run the following cell to install the necessary Python libraries for this notebook."
   ]
  },
  {
   "cell_type": "code",
   "execution_count": null,
   "metadata": {},
   "outputs": [],
   "source": [
    "!pip install requests pandas matplotlib"
   ]
  },
  {
   "cell_type": "markdown",
   "metadata": {},
   "source": [
    "## API Request"
   ]
  },
  {
   "cell_type": "code",
   "execution_count": null,
   "metadata": {
    "colab": {
     "forms": {
      "id": "_2XyZ_q_3Z3p"
     }
    }
   },
   "outputs": [],
   "source": [
    "import requests\n",
    "import pandas as pd\n",
    "import matplotlib.pyplot as plt\n",
    "\n",
    "# API endpoint URL\n",
    "url = \"http://127.0.0.1:8000/forecast\"\n",
    "\n",
    "# Parameters for the request\n",
    "init_date = \"2023-04-18\" #@param {type:\"string\"}\n",
    "lat = 40.416775 #@param {type:\"number\"}\n",
    "lon = -3.703790 #@param {type:\"number\"}\n",
    "model = \"gfs\" #@param [\"graph\", \"gen\", \"gfs\"]\n",
    "variables = \"temperature_2m_above_ground,total_precipitation_surface\" #@param {type:\"string\"}\n",
    "\n",
    "params = {\n",
    "    \"init_date\": init_date,\n",
    "    \"lat\": lat,\n",
    "    \"lon\": lon,\n",
    "    \"model\": model,\n",
    "    \"variables\": variables\n",
    "}\n",
    "\n",
    "try:\n",
    "    # Make the GET request\n",
    "    response = requests.get(url, params=params)\n",
    "\n",
    "    # Check if the request was successful\n",
    "    if response.status_code == 200:\n",
    "        # Print the JSON response\n",
    "        data = response.json()\n",
    "        print(\"Successfully retrieved forecast data.\")\n",
    "    else:\n",
    "        print(f\"Error: {response.status_code}\")\n",
    "        print(response.text)\n",
    "        data = None\n",
    "\n",
    "except requests.exceptions.ConnectionError as e:\n",
    "    print(f\"Connection Error: {e}\")\n",
    "    data = None"
   ]
  },
  {
   "cell_type": "markdown",
   "metadata": {},
   "source": [
    "## Data Visualization"
   ]
  },
  {
   "cell_type": "code",
   "execution_count": null,
   "metadata": {},
   "outputs": [],
   "source": [
    "if data:\n",
    "    # Load the forecast data into a pandas DataFrame\n",
    "    df = pd.DataFrame(data['forecast'])\n",
    "    df['forecast_time'] = pd.to_datetime(df['forecast_time'])\n",
    "\n",
    "    # Plot the data\n",
    "    plt.figure(figsize=(15, 7))\n",
    "    for var in variables.split(','):\n",
    "        if var in df.columns:\n",
    "            plt.plot(df['forecast_time'], df[var], label=var)\n",
    "\n",
    "    # Add labels and title\n",
    "    plt.xlabel('Forecast Time')\n",
    "    plt.ylabel('Value')\n",
    "    plt.title(f\"Forecast for {model.upper()} model at ({lat}, {lon})\")\n",
    "    plt.legend()\n",
    "    plt.grid(True)\n",
    "    plt.show()"
   ]
  }
 ],
 "metadata": {
  "colab": {
   "provenance": []
  },
  "kernelspec": {
   "display_name": "Python 3",
   "name": "python3"
  },
  "language_info": {
   "name": "python"
  }
 },
 "nbformat": 4,
 "nbformat_minor": 0
}
